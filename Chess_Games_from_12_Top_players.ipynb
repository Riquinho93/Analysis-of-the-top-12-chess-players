{
  "nbformat": 4,
  "nbformat_minor": 0,
  "metadata": {
    "colab": {
      "name": "Chess Games from 12 Top players.ipynb",
      "provenance": []
    },
    "kernelspec": {
      "name": "python3",
      "display_name": "Python 3"
    },
    "language_info": {
      "name": "python"
    }
  },
  "cells": [
    {
      "cell_type": "markdown",
      "source": [
        "#Chess Games from 12 Top players\n",
        "\n",
        "The aim is to answer some questions:\n",
        "- The most sacrificed piece?\n",
        "- Player with the most wins?\n",
        "- And the player who loses the most?\n",
        "- Who is the most aggressive?\n",
        "- Who is the most positional?"
      ],
      "metadata": {
        "id": "FgP9ouv3O6Xq"
      }
    },
    {
      "cell_type": "code",
      "execution_count": 2,
      "metadata": {
        "colab": {
          "base_uri": "https://localhost:8080/"
        },
        "id": "Tes-LBYPxGLw",
        "outputId": "4e26a9d8-0637-4b44-92d0-f5d651787c1a"
      },
      "outputs": [
        {
          "output_type": "stream",
          "name": "stdout",
          "text": [
            "/\n",
            "Mounted at content/gdrive\n"
          ]
        }
      ],
      "source": [
        "%cd ..\n",
        "from google.colab import drive\n",
        "drive.mount('content/gdrive')"
      ]
    },
    {
      "cell_type": "code",
      "source": [
        "# rename the path\n",
        "!ln -s /content/gdrive/My\\Drive/ /mydrive\n",
        "!ls "
      ],
      "metadata": {
        "colab": {
          "base_uri": "https://localhost:8080/"
        },
        "id": "ABe6h268PBhg",
        "outputId": "bfb39216-601d-4b39-bd71-b8258a0cd8d5"
      },
      "execution_count": 12,
      "outputs": [
        {
          "output_type": "stream",
          "name": "stdout",
          "text": [
            "bin\t dev   lib32  mydrive\t  root\tsys\t\t   usr\n",
            "boot\t etc   lib64  opt\t  run\ttensorflow-1.15.2  var\n",
            "content  home  media  proc\t  sbin\ttmp\n",
            "datalab  lib   mnt    python-apt  srv\ttools\n"
          ]
        }
      ]
    },
    {
      "cell_type": "code",
      "source": [
        "import pandas as pd\n",
        "import numpy as np"
      ],
      "metadata": {
        "id": "PJxCXQdlQN0n"
      },
      "execution_count": 15,
      "outputs": []
    },
    {
      "cell_type": "markdown",
      "source": [
        "#1. Data: Piece information"
      ],
      "metadata": {
        "id": "OBBMwMIWVfyC"
      }
    },
    {
      "cell_type": "code",
      "source": [
        "path = \"/mydrive/Data_Science_Projects/AnalysisChessGames/data/\"\n",
        "df = pd.read_csv(path+\"Player_piece_info.csv\")\n",
        "print(df.shape)\n",
        "print(df.info())\n",
        "print(df.describe())\n"
      ],
      "metadata": {
        "colab": {
          "base_uri": "https://localhost:8080/"
        },
        "id": "FHlbzkvQQcrf",
        "outputId": "c82914cb-37f3-4dc8-881d-922c78dd0481"
      },
      "execution_count": 14,
      "outputs": [
        {
          "output_type": "stream",
          "name": "stdout",
          "text": [
            "(1787199, 9)\n",
            "<class 'pandas.core.frame.DataFrame'>\n",
            "RangeIndex: 1787199 entries, 0 to 1787198\n",
            "Data columns (total 9 columns):\n",
            " #   Column     Dtype \n",
            "---  ------     ----- \n",
            " 0   queen      int64 \n",
            " 1   rook       int64 \n",
            " 2   knight     int64 \n",
            " 3   bishop     int64 \n",
            " 4   pawn       int64 \n",
            " 5   move_num   int64 \n",
            " 6   file_name  object\n",
            " 7   color      object\n",
            " 8   player     object\n",
            "dtypes: int64(6), object(3)\n",
            "memory usage: 122.7+ MB\n",
            "None\n",
            "              queen          rook  ...          pawn      move_num\n",
            "count  1.787199e+06  1.787199e+06  ...  1.787199e+06  1.787199e+06\n",
            "mean   7.046596e-01  1.571671e+00  ...  5.796128e+00  4.905898e+01\n",
            "std    4.568906e-01  6.661660e-01  ...  1.869875e+00  3.570868e+01\n",
            "min    0.000000e+00  0.000000e+00  ...  0.000000e+00  1.000000e+00\n",
            "25%    0.000000e+00  1.000000e+00  ...  5.000000e+00  2.100000e+01\n",
            "50%    1.000000e+00  2.000000e+00  ...  6.000000e+00  4.300000e+01\n",
            "75%    1.000000e+00  2.000000e+00  ...  7.000000e+00  6.900000e+01\n",
            "max    3.000000e+00  2.000000e+00  ...  8.000000e+00  3.630000e+02\n",
            "\n",
            "[8 rows x 6 columns]\n"
          ]
        }
      ]
    },
    {
      "cell_type": "code",
      "source": [
        "df.head(10)"
      ],
      "metadata": {
        "colab": {
          "base_uri": "https://localhost:8080/",
          "height": 363
        },
        "id": "o0odKV1BSfvq",
        "outputId": "d9a1cfe7-5bd6-4e6d-adc7-6875bc3c096c"
      },
      "execution_count": 16,
      "outputs": [
        {
          "output_type": "execute_result",
          "data": {
            "text/html": [
              "\n",
              "  <div id=\"df-99b42123-2dee-498a-890a-83fa159f5753\">\n",
              "    <div class=\"colab-df-container\">\n",
              "      <div>\n",
              "<style scoped>\n",
              "    .dataframe tbody tr th:only-of-type {\n",
              "        vertical-align: middle;\n",
              "    }\n",
              "\n",
              "    .dataframe tbody tr th {\n",
              "        vertical-align: top;\n",
              "    }\n",
              "\n",
              "    .dataframe thead th {\n",
              "        text-align: right;\n",
              "    }\n",
              "</style>\n",
              "<table border=\"1\" class=\"dataframe\">\n",
              "  <thead>\n",
              "    <tr style=\"text-align: right;\">\n",
              "      <th></th>\n",
              "      <th>queen</th>\n",
              "      <th>rook</th>\n",
              "      <th>knight</th>\n",
              "      <th>bishop</th>\n",
              "      <th>pawn</th>\n",
              "      <th>move_num</th>\n",
              "      <th>file_name</th>\n",
              "      <th>color</th>\n",
              "      <th>player</th>\n",
              "    </tr>\n",
              "  </thead>\n",
              "  <tbody>\n",
              "    <tr>\n",
              "      <th>0</th>\n",
              "      <td>1</td>\n",
              "      <td>2</td>\n",
              "      <td>2</td>\n",
              "      <td>2</td>\n",
              "      <td>8</td>\n",
              "      <td>1</td>\n",
              "      <td>Bogoljubow-Efim-D_vs_Alekhine-Alexander-A_1921...</td>\n",
              "      <td>Black</td>\n",
              "      <td>Alekhine</td>\n",
              "    </tr>\n",
              "    <tr>\n",
              "      <th>1</th>\n",
              "      <td>1</td>\n",
              "      <td>2</td>\n",
              "      <td>2</td>\n",
              "      <td>2</td>\n",
              "      <td>8</td>\n",
              "      <td>2</td>\n",
              "      <td>Bogoljubow-Efim-D_vs_Alekhine-Alexander-A_1921...</td>\n",
              "      <td>Black</td>\n",
              "      <td>Alekhine</td>\n",
              "    </tr>\n",
              "    <tr>\n",
              "      <th>2</th>\n",
              "      <td>1</td>\n",
              "      <td>2</td>\n",
              "      <td>2</td>\n",
              "      <td>2</td>\n",
              "      <td>8</td>\n",
              "      <td>3</td>\n",
              "      <td>Bogoljubow-Efim-D_vs_Alekhine-Alexander-A_1921...</td>\n",
              "      <td>Black</td>\n",
              "      <td>Alekhine</td>\n",
              "    </tr>\n",
              "    <tr>\n",
              "      <th>3</th>\n",
              "      <td>1</td>\n",
              "      <td>2</td>\n",
              "      <td>2</td>\n",
              "      <td>2</td>\n",
              "      <td>8</td>\n",
              "      <td>4</td>\n",
              "      <td>Bogoljubow-Efim-D_vs_Alekhine-Alexander-A_1921...</td>\n",
              "      <td>Black</td>\n",
              "      <td>Alekhine</td>\n",
              "    </tr>\n",
              "    <tr>\n",
              "      <th>4</th>\n",
              "      <td>1</td>\n",
              "      <td>2</td>\n",
              "      <td>2</td>\n",
              "      <td>2</td>\n",
              "      <td>8</td>\n",
              "      <td>5</td>\n",
              "      <td>Bogoljubow-Efim-D_vs_Alekhine-Alexander-A_1921...</td>\n",
              "      <td>Black</td>\n",
              "      <td>Alekhine</td>\n",
              "    </tr>\n",
              "    <tr>\n",
              "      <th>5</th>\n",
              "      <td>1</td>\n",
              "      <td>2</td>\n",
              "      <td>2</td>\n",
              "      <td>2</td>\n",
              "      <td>8</td>\n",
              "      <td>6</td>\n",
              "      <td>Bogoljubow-Efim-D_vs_Alekhine-Alexander-A_1921...</td>\n",
              "      <td>Black</td>\n",
              "      <td>Alekhine</td>\n",
              "    </tr>\n",
              "    <tr>\n",
              "      <th>6</th>\n",
              "      <td>1</td>\n",
              "      <td>2</td>\n",
              "      <td>2</td>\n",
              "      <td>2</td>\n",
              "      <td>8</td>\n",
              "      <td>7</td>\n",
              "      <td>Bogoljubow-Efim-D_vs_Alekhine-Alexander-A_1921...</td>\n",
              "      <td>Black</td>\n",
              "      <td>Alekhine</td>\n",
              "    </tr>\n",
              "    <tr>\n",
              "      <th>7</th>\n",
              "      <td>1</td>\n",
              "      <td>2</td>\n",
              "      <td>2</td>\n",
              "      <td>2</td>\n",
              "      <td>8</td>\n",
              "      <td>8</td>\n",
              "      <td>Bogoljubow-Efim-D_vs_Alekhine-Alexander-A_1921...</td>\n",
              "      <td>Black</td>\n",
              "      <td>Alekhine</td>\n",
              "    </tr>\n",
              "    <tr>\n",
              "      <th>8</th>\n",
              "      <td>1</td>\n",
              "      <td>2</td>\n",
              "      <td>2</td>\n",
              "      <td>2</td>\n",
              "      <td>8</td>\n",
              "      <td>9</td>\n",
              "      <td>Bogoljubow-Efim-D_vs_Alekhine-Alexander-A_1921...</td>\n",
              "      <td>Black</td>\n",
              "      <td>Alekhine</td>\n",
              "    </tr>\n",
              "    <tr>\n",
              "      <th>9</th>\n",
              "      <td>1</td>\n",
              "      <td>2</td>\n",
              "      <td>2</td>\n",
              "      <td>2</td>\n",
              "      <td>8</td>\n",
              "      <td>10</td>\n",
              "      <td>Bogoljubow-Efim-D_vs_Alekhine-Alexander-A_1921...</td>\n",
              "      <td>Black</td>\n",
              "      <td>Alekhine</td>\n",
              "    </tr>\n",
              "  </tbody>\n",
              "</table>\n",
              "</div>\n",
              "      <button class=\"colab-df-convert\" onclick=\"convertToInteractive('df-99b42123-2dee-498a-890a-83fa159f5753')\"\n",
              "              title=\"Convert this dataframe to an interactive table.\"\n",
              "              style=\"display:none;\">\n",
              "        \n",
              "  <svg xmlns=\"http://www.w3.org/2000/svg\" height=\"24px\"viewBox=\"0 0 24 24\"\n",
              "       width=\"24px\">\n",
              "    <path d=\"M0 0h24v24H0V0z\" fill=\"none\"/>\n",
              "    <path d=\"M18.56 5.44l.94 2.06.94-2.06 2.06-.94-2.06-.94-.94-2.06-.94 2.06-2.06.94zm-11 1L8.5 8.5l.94-2.06 2.06-.94-2.06-.94L8.5 2.5l-.94 2.06-2.06.94zm10 10l.94 2.06.94-2.06 2.06-.94-2.06-.94-.94-2.06-.94 2.06-2.06.94z\"/><path d=\"M17.41 7.96l-1.37-1.37c-.4-.4-.92-.59-1.43-.59-.52 0-1.04.2-1.43.59L10.3 9.45l-7.72 7.72c-.78.78-.78 2.05 0 2.83L4 21.41c.39.39.9.59 1.41.59.51 0 1.02-.2 1.41-.59l7.78-7.78 2.81-2.81c.8-.78.8-2.07 0-2.86zM5.41 20L4 18.59l7.72-7.72 1.47 1.35L5.41 20z\"/>\n",
              "  </svg>\n",
              "      </button>\n",
              "      \n",
              "  <style>\n",
              "    .colab-df-container {\n",
              "      display:flex;\n",
              "      flex-wrap:wrap;\n",
              "      gap: 12px;\n",
              "    }\n",
              "\n",
              "    .colab-df-convert {\n",
              "      background-color: #E8F0FE;\n",
              "      border: none;\n",
              "      border-radius: 50%;\n",
              "      cursor: pointer;\n",
              "      display: none;\n",
              "      fill: #1967D2;\n",
              "      height: 32px;\n",
              "      padding: 0 0 0 0;\n",
              "      width: 32px;\n",
              "    }\n",
              "\n",
              "    .colab-df-convert:hover {\n",
              "      background-color: #E2EBFA;\n",
              "      box-shadow: 0px 1px 2px rgba(60, 64, 67, 0.3), 0px 1px 3px 1px rgba(60, 64, 67, 0.15);\n",
              "      fill: #174EA6;\n",
              "    }\n",
              "\n",
              "    [theme=dark] .colab-df-convert {\n",
              "      background-color: #3B4455;\n",
              "      fill: #D2E3FC;\n",
              "    }\n",
              "\n",
              "    [theme=dark] .colab-df-convert:hover {\n",
              "      background-color: #434B5C;\n",
              "      box-shadow: 0px 1px 3px 1px rgba(0, 0, 0, 0.15);\n",
              "      filter: drop-shadow(0px 1px 2px rgba(0, 0, 0, 0.3));\n",
              "      fill: #FFFFFF;\n",
              "    }\n",
              "  </style>\n",
              "\n",
              "      <script>\n",
              "        const buttonEl =\n",
              "          document.querySelector('#df-99b42123-2dee-498a-890a-83fa159f5753 button.colab-df-convert');\n",
              "        buttonEl.style.display =\n",
              "          google.colab.kernel.accessAllowed ? 'block' : 'none';\n",
              "\n",
              "        async function convertToInteractive(key) {\n",
              "          const element = document.querySelector('#df-99b42123-2dee-498a-890a-83fa159f5753');\n",
              "          const dataTable =\n",
              "            await google.colab.kernel.invokeFunction('convertToInteractive',\n",
              "                                                     [key], {});\n",
              "          if (!dataTable) return;\n",
              "\n",
              "          const docLinkHtml = 'Like what you see? Visit the ' +\n",
              "            '<a target=\"_blank\" href=https://colab.research.google.com/notebooks/data_table.ipynb>data table notebook</a>'\n",
              "            + ' to learn more about interactive tables.';\n",
              "          element.innerHTML = '';\n",
              "          dataTable['output_type'] = 'display_data';\n",
              "          await google.colab.output.renderOutput(dataTable, element);\n",
              "          const docLink = document.createElement('div');\n",
              "          docLink.innerHTML = docLinkHtml;\n",
              "          element.appendChild(docLink);\n",
              "        }\n",
              "      </script>\n",
              "    </div>\n",
              "  </div>\n",
              "  "
            ],
            "text/plain": [
              "   queen  rook  ...  color    player\n",
              "0      1     2  ...  Black  Alekhine\n",
              "1      1     2  ...  Black  Alekhine\n",
              "2      1     2  ...  Black  Alekhine\n",
              "3      1     2  ...  Black  Alekhine\n",
              "4      1     2  ...  Black  Alekhine\n",
              "5      1     2  ...  Black  Alekhine\n",
              "6      1     2  ...  Black  Alekhine\n",
              "7      1     2  ...  Black  Alekhine\n",
              "8      1     2  ...  Black  Alekhine\n",
              "9      1     2  ...  Black  Alekhine\n",
              "\n",
              "[10 rows x 9 columns]"
            ]
          },
          "metadata": {},
          "execution_count": 16
        }
      ]
    },
    {
      "cell_type": "code",
      "source": [
        ""
      ],
      "metadata": {
        "id": "TrU803jzWYYt"
      },
      "execution_count": null,
      "outputs": []
    }
  ]
}